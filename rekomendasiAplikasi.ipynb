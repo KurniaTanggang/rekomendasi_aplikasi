{
  "nbformat": 4,
  "nbformat_minor": 0,
  "metadata": {
    "colab": {
      "provenance": [],
      "collapsed_sections": [],
      "toc_visible": true,
      "include_colab_link": true
    },
    "kernelspec": {
      "name": "python3",
      "display_name": "Python 3"
    },
    "language_info": {
      "name": "python"
    }
  },
  "cells": [
    {
      "cell_type": "markdown",
      "metadata": {
        "id": "view-in-github",
        "colab_type": "text"
      },
      "source": [
        "<a href=\"https://colab.research.google.com/github/KurniaTanggang/rekomendasi_aplikasi/blob/main/rekomendasiAplikasi.ipynb\" target=\"_parent\"><img src=\"https://colab.research.google.com/assets/colab-badge.svg\" alt=\"Open In Colab\"/></a>"
      ]
    },
    {
      "cell_type": "markdown",
      "metadata": {
        "id": "MW-6XPW1MB33"
      },
      "source": [
        "# Rekomendasi Aplikasi Google Play Store\n",
        "Aplikasi adalah perangkat lunak yang berisi program untuk menjalankan fungsi tertentu untuk mencapai tujuan dari pengguna. Aplikasi terdapat di berbagai sistem operasi seperti iOS, Android dan lain-lain. Google Play Store adalah toko aplikasi resmi untuk sistem operasi Android, terdapat banyak aplikasi yang dapat menunjang aktivitas pengguna sehari-hari dengan berbagai kategori seperti Game untuk hiburan, Education untuk belajar dan banyak kategori lainnya. Banyaknya aplikasi yang tersedia terkadang membuat kita tidak puas hanya dengan menggunakan satu aplikasi saja, kita ingin mencoba aplikasi lainnya namun ingin aplikasi tersebut memiliki kemiripan dengan aplikasi yang sudah kita pakai. Misal, kita telah memakai sebuah aplikasi Game tetapi karena bosan memainkan hal yang sama kita ingin mencoba aplikasi Game lainnya. Oleh karena itu, akan dibuat sistem Rekomendasi Aplikasi pada Google Play Store yang dapat merekomendasikan aplikasi yang serupa dengan aplikasi yang pernah digunakan."
      ]
    },
    {
      "cell_type": "markdown",
      "metadata": {
        "id": "pTDsAoviZmO0"
      },
      "source": [
        "## Businesss Understanding\n",
        "Membuat sistem yang dapat merekomendasikan aplikasi yang mirip dengan aplikasi yang pernah digunakan. Menggunakan pendekatan Content Based Filtering pada sistem, karena rekomendasi yang akan dibuat berdasarkan aplikasi yang pernah digunakan."
      ]
    },
    {
      "cell_type": "markdown",
      "metadata": {
        "id": "Q2KnnqYJZtG_"
      },
      "source": [
        "### Problem Statement\n",
        "- Bagaimana memberikan rekomendasi aplikasi yang mirip dengan aplikasi yang pernah digunakan oleh pengguna ?"
      ]
    },
    {
      "cell_type": "markdown",
      "metadata": {
        "id": "hCKJKf2JZyKi"
      },
      "source": [
        "### Goal\n",
        "- Memberikan rekomendasi aplikasi yang memiliki kemiripan dengan aplikasi yang pernah digunakan."
      ]
    },
    {
      "cell_type": "markdown",
      "metadata": {
        "id": "mvH9DaF1Z7qo"
      },
      "source": [
        "### Solution approach\n",
        "Untuk membuat sistem rekomendasi Aplikasi, teknik yang akan digunakan adalah **Content Based Filtering**. Content Based Filtering adalah pendekatan sistem rekomendasi dengan merekomendasikan item yang mirip dengan item yang disukai atau pernah diguankan oleh pengguna. Dalam kasus ini, sistem akan merekomendasikan aplikasi yang mirip dengan aplikasi yang pernah digunakan sebelumnya berdasarkan kategori pada aplikasi. Kelebihan dari sistem rekomendasi ini adalah sistem dapat merekomendasikan item terbaru atau yang bahkan belum pernah di-*rate* oleh siapaun. Dan tentunya juga memiliki kekurangan yaitu sistem memerlukan data item yang pernah digunakan oleh pengguna atau riwayat interaksi penguna dengan sistem rekomendasi."
      ]
    },
    {
      "cell_type": "markdown",
      "metadata": {
        "id": "aidEmnlLM4ry"
      },
      "source": [
        "## Data Understanding"
      ]
    },
    {
      "cell_type": "markdown",
      "metadata": {
        "id": "WjzPNUmvMx_B"
      },
      "source": [
        "Library yang dibutuhkan"
      ]
    },
    {
      "cell_type": "code",
      "metadata": {
        "id": "we2I2mXeLaCX"
      },
      "source": [
        "import os\n",
        "import pandas as pd\n",
        "import numpy as np\n",
        "from sklearn.feature_extraction.text import TfidfVectorizer\n",
        "from sklearn.metrics.pairwise import cosine_similarity\n",
        "import tensorflow as tf\n",
        "from tensorflow import keras\n",
        "from tensorflow.keras import layers\n",
        "from pathlib import Path\n",
        "import matplotlib.pyplot as plt\n"
      ],
      "execution_count": null,
      "outputs": []
    },
    {
      "cell_type": "markdown",
      "metadata": {
        "id": "ch5FKP1DODYl"
      },
      "source": [
        "### Data Loading\n",
        "Load dataset dari [Google Play Store Apps](https://www.kaggle.com/lava18/google-play-store-apps)"
      ]
    },
    {
      "cell_type": "code",
      "metadata": {
        "colab": {
          "base_uri": "https://localhost:8080/"
        },
        "id": "Z_tu1EA_OZHt",
        "outputId": "72a78589-8b49-449a-cf7c-fe6774c1df56"
      },
      "source": [
        "os.environ['KAGGLE_USERNAME'] = \"niatanggang\"\n",
        "os.environ['KAGGLE_KEY'] =  \"39a6d91a4bff7060406d0489c44251f2\"\n",
        "\n",
        "!kaggle datasets download -d lava18/google-play-store-apps\n",
        "\n",
        "!unzip -q google-play-store-apps -d .\n",
        "os.listdir('/content/')"
      ],
      "execution_count": null,
      "outputs": [
        {
          "output_type": "stream",
          "name": "stdout",
          "text": [
            "Downloading google-play-store-apps.zip to /content\n",
            "\r  0% 0.00/1.94M [00:00<?, ?B/s]\n",
            "\r100% 1.94M/1.94M [00:00<00:00, 65.3MB/s]\n"
          ]
        },
        {
          "output_type": "execute_result",
          "data": {
            "text/plain": [
              "['.config',\n",
              " 'googleplaystore.csv',\n",
              " 'license.txt',\n",
              " 'googleplaystore_user_reviews.csv',\n",
              " 'google-play-store-apps.zip',\n",
              " 'sample_data']"
            ]
          },
          "metadata": {},
          "execution_count": 2
        }
      ]
    },
    {
      "cell_type": "markdown",
      "metadata": {
        "id": "mEBs7SVAOnaK"
      },
      "source": [
        "File yang akan dipakai adalah **googleplaystore.csv**"
      ]
    },
    {
      "cell_type": "code",
      "metadata": {
        "colab": {
          "base_uri": "https://localhost:8080/",
          "height": 998
        },
        "id": "uQ0YdGTFPc0w",
        "outputId": "f3715e12-9c74-4ca1-a9cb-8d92eed441d2"
      },
      "source": [
        "df_app = pd.read_csv('/content/googleplaystore.csv')\n",
        "\n",
        "df_app"
      ],
      "execution_count": null,
      "outputs": [
        {
          "output_type": "execute_result",
          "data": {
            "text/html": [
              "<div>\n",
              "<style scoped>\n",
              "    .dataframe tbody tr th:only-of-type {\n",
              "        vertical-align: middle;\n",
              "    }\n",
              "\n",
              "    .dataframe tbody tr th {\n",
              "        vertical-align: top;\n",
              "    }\n",
              "\n",
              "    .dataframe thead th {\n",
              "        text-align: right;\n",
              "    }\n",
              "</style>\n",
              "<table border=\"1\" class=\"dataframe\">\n",
              "  <thead>\n",
              "    <tr style=\"text-align: right;\">\n",
              "      <th></th>\n",
              "      <th>App</th>\n",
              "      <th>Category</th>\n",
              "      <th>Rating</th>\n",
              "      <th>Reviews</th>\n",
              "      <th>Size</th>\n",
              "      <th>Installs</th>\n",
              "      <th>Type</th>\n",
              "      <th>Price</th>\n",
              "      <th>Content Rating</th>\n",
              "      <th>Genres</th>\n",
              "      <th>Last Updated</th>\n",
              "      <th>Current Ver</th>\n",
              "      <th>Android Ver</th>\n",
              "    </tr>\n",
              "  </thead>\n",
              "  <tbody>\n",
              "    <tr>\n",
              "      <th>0</th>\n",
              "      <td>Photo Editor &amp; Candy Camera &amp; Grid &amp; ScrapBook</td>\n",
              "      <td>ART_AND_DESIGN</td>\n",
              "      <td>4.1</td>\n",
              "      <td>159</td>\n",
              "      <td>19M</td>\n",
              "      <td>10,000+</td>\n",
              "      <td>Free</td>\n",
              "      <td>0</td>\n",
              "      <td>Everyone</td>\n",
              "      <td>Art &amp; Design</td>\n",
              "      <td>January 7, 2018</td>\n",
              "      <td>1.0.0</td>\n",
              "      <td>4.0.3 and up</td>\n",
              "    </tr>\n",
              "    <tr>\n",
              "      <th>1</th>\n",
              "      <td>Coloring book moana</td>\n",
              "      <td>ART_AND_DESIGN</td>\n",
              "      <td>3.9</td>\n",
              "      <td>967</td>\n",
              "      <td>14M</td>\n",
              "      <td>500,000+</td>\n",
              "      <td>Free</td>\n",
              "      <td>0</td>\n",
              "      <td>Everyone</td>\n",
              "      <td>Art &amp; Design;Pretend Play</td>\n",
              "      <td>January 15, 2018</td>\n",
              "      <td>2.0.0</td>\n",
              "      <td>4.0.3 and up</td>\n",
              "    </tr>\n",
              "    <tr>\n",
              "      <th>2</th>\n",
              "      <td>U Launcher Lite – FREE Live Cool Themes, Hide ...</td>\n",
              "      <td>ART_AND_DESIGN</td>\n",
              "      <td>4.7</td>\n",
              "      <td>87510</td>\n",
              "      <td>8.7M</td>\n",
              "      <td>5,000,000+</td>\n",
              "      <td>Free</td>\n",
              "      <td>0</td>\n",
              "      <td>Everyone</td>\n",
              "      <td>Art &amp; Design</td>\n",
              "      <td>August 1, 2018</td>\n",
              "      <td>1.2.4</td>\n",
              "      <td>4.0.3 and up</td>\n",
              "    </tr>\n",
              "    <tr>\n",
              "      <th>3</th>\n",
              "      <td>Sketch - Draw &amp; Paint</td>\n",
              "      <td>ART_AND_DESIGN</td>\n",
              "      <td>4.5</td>\n",
              "      <td>215644</td>\n",
              "      <td>25M</td>\n",
              "      <td>50,000,000+</td>\n",
              "      <td>Free</td>\n",
              "      <td>0</td>\n",
              "      <td>Teen</td>\n",
              "      <td>Art &amp; Design</td>\n",
              "      <td>June 8, 2018</td>\n",
              "      <td>Varies with device</td>\n",
              "      <td>4.2 and up</td>\n",
              "    </tr>\n",
              "    <tr>\n",
              "      <th>4</th>\n",
              "      <td>Pixel Draw - Number Art Coloring Book</td>\n",
              "      <td>ART_AND_DESIGN</td>\n",
              "      <td>4.3</td>\n",
              "      <td>967</td>\n",
              "      <td>2.8M</td>\n",
              "      <td>100,000+</td>\n",
              "      <td>Free</td>\n",
              "      <td>0</td>\n",
              "      <td>Everyone</td>\n",
              "      <td>Art &amp; Design;Creativity</td>\n",
              "      <td>June 20, 2018</td>\n",
              "      <td>1.1</td>\n",
              "      <td>4.4 and up</td>\n",
              "    </tr>\n",
              "    <tr>\n",
              "      <th>...</th>\n",
              "      <td>...</td>\n",
              "      <td>...</td>\n",
              "      <td>...</td>\n",
              "      <td>...</td>\n",
              "      <td>...</td>\n",
              "      <td>...</td>\n",
              "      <td>...</td>\n",
              "      <td>...</td>\n",
              "      <td>...</td>\n",
              "      <td>...</td>\n",
              "      <td>...</td>\n",
              "      <td>...</td>\n",
              "      <td>...</td>\n",
              "    </tr>\n",
              "    <tr>\n",
              "      <th>10836</th>\n",
              "      <td>Sya9a Maroc - FR</td>\n",
              "      <td>FAMILY</td>\n",
              "      <td>4.5</td>\n",
              "      <td>38</td>\n",
              "      <td>53M</td>\n",
              "      <td>5,000+</td>\n",
              "      <td>Free</td>\n",
              "      <td>0</td>\n",
              "      <td>Everyone</td>\n",
              "      <td>Education</td>\n",
              "      <td>July 25, 2017</td>\n",
              "      <td>1.48</td>\n",
              "      <td>4.1 and up</td>\n",
              "    </tr>\n",
              "    <tr>\n",
              "      <th>10837</th>\n",
              "      <td>Fr. Mike Schmitz Audio Teachings</td>\n",
              "      <td>FAMILY</td>\n",
              "      <td>5.0</td>\n",
              "      <td>4</td>\n",
              "      <td>3.6M</td>\n",
              "      <td>100+</td>\n",
              "      <td>Free</td>\n",
              "      <td>0</td>\n",
              "      <td>Everyone</td>\n",
              "      <td>Education</td>\n",
              "      <td>July 6, 2018</td>\n",
              "      <td>1.0</td>\n",
              "      <td>4.1 and up</td>\n",
              "    </tr>\n",
              "    <tr>\n",
              "      <th>10838</th>\n",
              "      <td>Parkinson Exercices FR</td>\n",
              "      <td>MEDICAL</td>\n",
              "      <td>NaN</td>\n",
              "      <td>3</td>\n",
              "      <td>9.5M</td>\n",
              "      <td>1,000+</td>\n",
              "      <td>Free</td>\n",
              "      <td>0</td>\n",
              "      <td>Everyone</td>\n",
              "      <td>Medical</td>\n",
              "      <td>January 20, 2017</td>\n",
              "      <td>1.0</td>\n",
              "      <td>2.2 and up</td>\n",
              "    </tr>\n",
              "    <tr>\n",
              "      <th>10839</th>\n",
              "      <td>The SCP Foundation DB fr nn5n</td>\n",
              "      <td>BOOKS_AND_REFERENCE</td>\n",
              "      <td>4.5</td>\n",
              "      <td>114</td>\n",
              "      <td>Varies with device</td>\n",
              "      <td>1,000+</td>\n",
              "      <td>Free</td>\n",
              "      <td>0</td>\n",
              "      <td>Mature 17+</td>\n",
              "      <td>Books &amp; Reference</td>\n",
              "      <td>January 19, 2015</td>\n",
              "      <td>Varies with device</td>\n",
              "      <td>Varies with device</td>\n",
              "    </tr>\n",
              "    <tr>\n",
              "      <th>10840</th>\n",
              "      <td>iHoroscope - 2018 Daily Horoscope &amp; Astrology</td>\n",
              "      <td>LIFESTYLE</td>\n",
              "      <td>4.5</td>\n",
              "      <td>398307</td>\n",
              "      <td>19M</td>\n",
              "      <td>10,000,000+</td>\n",
              "      <td>Free</td>\n",
              "      <td>0</td>\n",
              "      <td>Everyone</td>\n",
              "      <td>Lifestyle</td>\n",
              "      <td>July 25, 2018</td>\n",
              "      <td>Varies with device</td>\n",
              "      <td>Varies with device</td>\n",
              "    </tr>\n",
              "  </tbody>\n",
              "</table>\n",
              "<p>10841 rows × 13 columns</p>\n",
              "</div>"
            ],
            "text/plain": [
              "                                                     App  ...         Android Ver\n",
              "0         Photo Editor & Candy Camera & Grid & ScrapBook  ...        4.0.3 and up\n",
              "1                                    Coloring book moana  ...        4.0.3 and up\n",
              "2      U Launcher Lite – FREE Live Cool Themes, Hide ...  ...        4.0.3 and up\n",
              "3                                  Sketch - Draw & Paint  ...          4.2 and up\n",
              "4                  Pixel Draw - Number Art Coloring Book  ...          4.4 and up\n",
              "...                                                  ...  ...                 ...\n",
              "10836                                   Sya9a Maroc - FR  ...          4.1 and up\n",
              "10837                   Fr. Mike Schmitz Audio Teachings  ...          4.1 and up\n",
              "10838                             Parkinson Exercices FR  ...          2.2 and up\n",
              "10839                      The SCP Foundation DB fr nn5n  ...  Varies with device\n",
              "10840      iHoroscope - 2018 Daily Horoscope & Astrology  ...  Varies with device\n",
              "\n",
              "[10841 rows x 13 columns]"
            ]
          },
          "metadata": {},
          "execution_count": 3
        }
      ]
    },
    {
      "cell_type": "markdown",
      "metadata": {
        "id": "cM44OjPAP0rV"
      },
      "source": [
        "### Deskripsi Variabel Aplikasi (df_app)"
      ]
    },
    {
      "cell_type": "code",
      "metadata": {
        "colab": {
          "base_uri": "https://localhost:8080/"
        },
        "id": "XxzElBMQP6nc",
        "outputId": "ba53ea00-37b0-4dd9-eb78-f0e1909c15b6"
      },
      "source": [
        "df_app.info()"
      ],
      "execution_count": null,
      "outputs": [
        {
          "output_type": "stream",
          "name": "stdout",
          "text": [
            "<class 'pandas.core.frame.DataFrame'>\n",
            "RangeIndex: 10841 entries, 0 to 10840\n",
            "Data columns (total 13 columns):\n",
            " #   Column          Non-Null Count  Dtype  \n",
            "---  ------          --------------  -----  \n",
            " 0   App             10841 non-null  object \n",
            " 1   Category        10841 non-null  object \n",
            " 2   Rating          9367 non-null   float64\n",
            " 3   Reviews         10841 non-null  object \n",
            " 4   Size            10841 non-null  object \n",
            " 5   Installs        10841 non-null  object \n",
            " 6   Type            10840 non-null  object \n",
            " 7   Price           10841 non-null  object \n",
            " 8   Content Rating  10840 non-null  object \n",
            " 9   Genres          10841 non-null  object \n",
            " 10  Last Updated    10841 non-null  object \n",
            " 11  Current Ver     10833 non-null  object \n",
            " 12  Android Ver     10838 non-null  object \n",
            "dtypes: float64(1), object(12)\n",
            "memory usage: 1.1+ MB\n"
          ]
        }
      ]
    },
    {
      "cell_type": "markdown",
      "metadata": {
        "id": "Bo1y_OzRQA-3"
      },
      "source": [
        "Dari info di atas, diketahui bahwa googleplaystore.csv memiliki 13 fitur dengan 1 fitur bertipe data float dan 12 object. Namun, di sini hanya akan memakai fitur **App** dan **Category** untuk membangun sistem rekomendasi berbasis konten."
      ]
    },
    {
      "cell_type": "code",
      "metadata": {
        "colab": {
          "base_uri": "https://localhost:8080/"
        },
        "id": "msuw4WkjYwq6",
        "outputId": "8b9598f4-aaa8-4cf8-bb14-54d68784d59b"
      },
      "source": [
        "df_app = df_app[['App', 'Category']]\n",
        "df_app.info()"
      ],
      "execution_count": null,
      "outputs": [
        {
          "output_type": "stream",
          "name": "stdout",
          "text": [
            "<class 'pandas.core.frame.DataFrame'>\n",
            "RangeIndex: 10841 entries, 0 to 10840\n",
            "Data columns (total 2 columns):\n",
            " #   Column    Non-Null Count  Dtype \n",
            "---  ------    --------------  ----- \n",
            " 0   App       10841 non-null  object\n",
            " 1   Category  10841 non-null  object\n",
            "dtypes: object(2)\n",
            "memory usage: 169.5+ KB\n"
          ]
        }
      ]
    },
    {
      "cell_type": "markdown",
      "metadata": {
        "id": "lF-zody_ZdWV"
      },
      "source": [
        "Banyaknya data adalah sebanyak 10841"
      ]
    },
    {
      "cell_type": "code",
      "metadata": {
        "colab": {
          "base_uri": "https://localhost:8080/"
        },
        "id": "rhZxmZZ-ZZ3j",
        "outputId": "565baecd-3494-4ad9-ce83-8556be458476"
      },
      "source": [
        "df_app.shape"
      ],
      "execution_count": null,
      "outputs": [
        {
          "output_type": "execute_result",
          "data": {
            "text/plain": [
              "(10841, 2)"
            ]
          },
          "metadata": {},
          "execution_count": 6
        }
      ]
    },
    {
      "cell_type": "markdown",
      "metadata": {
        "id": "OHWCxcWPqD_f"
      },
      "source": [
        "## Data Preparation"
      ]
    },
    {
      "cell_type": "markdown",
      "metadata": {
        "id": "eswp-xm2R1mk"
      },
      "source": [
        "#### Missing Value"
      ]
    },
    {
      "cell_type": "markdown",
      "metadata": {
        "id": "Q4lUInTySGOq"
      },
      "source": [
        "Mengecek apakah ada missing value pada data."
      ]
    },
    {
      "cell_type": "code",
      "metadata": {
        "colab": {
          "base_uri": "https://localhost:8080/"
        },
        "id": "bqDLo9-6R3sO",
        "outputId": "edf0db9b-8625-40ad-94e7-fc2cad43b8b4"
      },
      "source": [
        "df_app.isnull().sum()"
      ],
      "execution_count": null,
      "outputs": [
        {
          "output_type": "execute_result",
          "data": {
            "text/plain": [
              "App         0\n",
              "Category    0\n",
              "dtype: int64"
            ]
          },
          "metadata": {},
          "execution_count": 9
        }
      ]
    },
    {
      "cell_type": "markdown",
      "metadata": {
        "id": "7CTI3jfRXCAH"
      },
      "source": [
        "Menampilkan banyaknya kategori aplikasi, pada data terdapat 34 kategori aplikasi."
      ]
    },
    {
      "cell_type": "code",
      "metadata": {
        "colab": {
          "base_uri": "https://localhost:8080/"
        },
        "id": "wUwCjD0fVpOf",
        "outputId": "a4074f8a-0736-4052-d0b7-1c016b1e0b0c"
      },
      "source": [
        "print(\"Banyak Category : \", len(df_app.Category.unique()))\n",
        "print(\"Category Aplikasi : \", df_app.Category.unique())"
      ],
      "execution_count": null,
      "outputs": [
        {
          "output_type": "stream",
          "name": "stdout",
          "text": [
            "Banyak Category :  34\n",
            "Category Aplikasi :  ['ART_AND_DESIGN' 'AUTO_AND_VEHICLES' 'BEAUTY' 'BOOKS_AND_REFERENCE'\n",
            " 'BUSINESS' 'COMICS' 'COMMUNICATION' 'DATING' 'EDUCATION' 'ENTERTAINMENT'\n",
            " 'EVENTS' 'FINANCE' 'FOOD_AND_DRINK' 'HEALTH_AND_FITNESS' 'HOUSE_AND_HOME'\n",
            " 'LIBRARIES_AND_DEMO' 'LIFESTYLE' 'GAME' 'FAMILY' 'MEDICAL' 'SOCIAL'\n",
            " 'SHOPPING' 'PHOTOGRAPHY' 'SPORTS' 'TRAVEL_AND_LOCAL' 'TOOLS'\n",
            " 'PERSONALIZATION' 'PRODUCTIVITY' 'PARENTING' 'WEATHER' 'VIDEO_PLAYERS'\n",
            " 'NEWS_AND_MAGAZINES' 'MAPS_AND_NAVIGATION' '1.9']\n"
          ]
        }
      ]
    },
    {
      "cell_type": "markdown",
      "metadata": {
        "id": "pUKO-7jm2shk"
      },
      "source": [
        "Dilihat dari hasil di atas ada fitur Category bernama '1.9'. Maka akan dianalisis apa saja App yang mempunyai Category 1.9"
      ]
    },
    {
      "cell_type": "code",
      "metadata": {
        "colab": {
          "base_uri": "https://localhost:8080/",
          "height": 81
        },
        "id": "aXdZsf8h10MV",
        "outputId": "0f8487ed-f67a-4f12-9a76-0657166e9210"
      },
      "source": [
        "df_app[df_app['Category'] == '1.9']"
      ],
      "execution_count": null,
      "outputs": [
        {
          "output_type": "execute_result",
          "data": {
            "text/html": [
              "<div>\n",
              "<style scoped>\n",
              "    .dataframe tbody tr th:only-of-type {\n",
              "        vertical-align: middle;\n",
              "    }\n",
              "\n",
              "    .dataframe tbody tr th {\n",
              "        vertical-align: top;\n",
              "    }\n",
              "\n",
              "    .dataframe thead th {\n",
              "        text-align: right;\n",
              "    }\n",
              "</style>\n",
              "<table border=\"1\" class=\"dataframe\">\n",
              "  <thead>\n",
              "    <tr style=\"text-align: right;\">\n",
              "      <th></th>\n",
              "      <th>App</th>\n",
              "      <th>Category</th>\n",
              "    </tr>\n",
              "  </thead>\n",
              "  <tbody>\n",
              "    <tr>\n",
              "      <th>10472</th>\n",
              "      <td>Life Made WI-Fi Touchscreen Photo Frame</td>\n",
              "      <td>1.9</td>\n",
              "    </tr>\n",
              "  </tbody>\n",
              "</table>\n",
              "</div>"
            ],
            "text/plain": [
              "                                           App Category\n",
              "10472  Life Made WI-Fi Touchscreen Photo Frame      1.9"
            ]
          },
          "metadata": {},
          "execution_count": 8
        }
      ]
    },
    {
      "cell_type": "markdown",
      "metadata": {
        "id": "GLmii4dK46um"
      },
      "source": [
        "Ternyata hanya satu App yang memiliki kategory 1.9, karena cuma ada satu maka data ini akan dihapuskan."
      ]
    },
    {
      "cell_type": "code",
      "metadata": {
        "colab": {
          "base_uri": "https://localhost:8080/"
        },
        "id": "ZI99ovBZ5FXE",
        "outputId": "55a42a7a-eeb8-4bed-81d1-c65ac33b0de5"
      },
      "source": [
        "df_app.drop(df_app[df_app.Category == '1.9'].index, inplace=True)\n",
        "print(\"Banyak Category : \", len(df_app.Category.unique()))\n",
        "print(\"Category Aplikasi : \", df_app.Category.unique())"
      ],
      "execution_count": null,
      "outputs": [
        {
          "output_type": "stream",
          "name": "stdout",
          "text": [
            "Banyak Category :  33\n",
            "Category Aplikasi :  ['ART_AND_DESIGN' 'AUTO_AND_VEHICLES' 'BEAUTY' 'BOOKS_AND_REFERENCE'\n",
            " 'BUSINESS' 'COMICS' 'COMMUNICATION' 'DATING' 'EDUCATION' 'ENTERTAINMENT'\n",
            " 'EVENTS' 'FINANCE' 'FOOD_AND_DRINK' 'HEALTH_AND_FITNESS' 'HOUSE_AND_HOME'\n",
            " 'LIBRARIES_AND_DEMO' 'LIFESTYLE' 'GAME' 'FAMILY' 'MEDICAL' 'SOCIAL'\n",
            " 'SHOPPING' 'PHOTOGRAPHY' 'SPORTS' 'TRAVEL_AND_LOCAL' 'TOOLS'\n",
            " 'PERSONALIZATION' 'PRODUCTIVITY' 'PARENTING' 'WEATHER' 'VIDEO_PLAYERS'\n",
            " 'NEWS_AND_MAGAZINES' 'MAPS_AND_NAVIGATION']\n"
          ]
        },
        {
          "output_type": "stream",
          "name": "stderr",
          "text": [
            "/usr/local/lib/python3.7/dist-packages/pandas/core/frame.py:4174: SettingWithCopyWarning: \n",
            "A value is trying to be set on a copy of a slice from a DataFrame\n",
            "\n",
            "See the caveats in the documentation: https://pandas.pydata.org/pandas-docs/stable/user_guide/indexing.html#returning-a-view-versus-a-copy\n",
            "  errors=errors,\n"
          ]
        }
      ]
    },
    {
      "cell_type": "markdown",
      "metadata": {
        "id": "hP1L5RjPNC9A"
      },
      "source": [
        "## Modeling : Content Based Filtering\n",
        "Sistem rekomendasi aplikasi berdasarkan kemiripan dengan aplikasi sebelumnya."
      ]
    },
    {
      "cell_type": "markdown",
      "metadata": {
        "id": "3eDC3Uegw20s"
      },
      "source": [
        "### TF-IDF Vectorizer"
      ]
    },
    {
      "cell_type": "markdown",
      "metadata": {
        "id": "6FsO0tDse6x6"
      },
      "source": [
        "Menggunakan fungsi tfidfvectorizer() untuk menemukan representasi fitur penting."
      ]
    },
    {
      "cell_type": "code",
      "metadata": {
        "colab": {
          "base_uri": "https://localhost:8080/"
        },
        "id": "QUHEJVreegJ9",
        "outputId": "e143c167-5b3f-4f17-8424-0302de7caca9"
      },
      "source": [
        "from sklearn.feature_extraction.text import TfidfVectorizer\n",
        " \n",
        "# Inisialisasi TfidfVectorizer\n",
        "tf = TfidfVectorizer()\n",
        " \n",
        "# Melakukan perhitungan idf pada data Category\n",
        "tf.fit(df_app['Category']) \n",
        " \n",
        "# Mapping array dari fitur index integer ke fitur nama\n",
        "tf.get_feature_names() "
      ],
      "execution_count": null,
      "outputs": [
        {
          "output_type": "execute_result",
          "data": {
            "text/plain": [
              "['art_and_design',\n",
              " 'auto_and_vehicles',\n",
              " 'beauty',\n",
              " 'books_and_reference',\n",
              " 'business',\n",
              " 'comics',\n",
              " 'communication',\n",
              " 'dating',\n",
              " 'education',\n",
              " 'entertainment',\n",
              " 'events',\n",
              " 'family',\n",
              " 'finance',\n",
              " 'food_and_drink',\n",
              " 'game',\n",
              " 'health_and_fitness',\n",
              " 'house_and_home',\n",
              " 'libraries_and_demo',\n",
              " 'lifestyle',\n",
              " 'maps_and_navigation',\n",
              " 'medical',\n",
              " 'news_and_magazines',\n",
              " 'parenting',\n",
              " 'personalization',\n",
              " 'photography',\n",
              " 'productivity',\n",
              " 'shopping',\n",
              " 'social',\n",
              " 'sports',\n",
              " 'tools',\n",
              " 'travel_and_local',\n",
              " 'video_players',\n",
              " 'weather']"
            ]
          },
          "metadata": {},
          "execution_count": 16
        }
      ]
    },
    {
      "cell_type": "markdown",
      "metadata": {
        "id": "cfk-2hc_fB7b"
      },
      "source": [
        "Fit dan transformasi ke dalam bentuk matriks"
      ]
    },
    {
      "cell_type": "code",
      "metadata": {
        "colab": {
          "base_uri": "https://localhost:8080/"
        },
        "id": "HX6_7_xbfGWq",
        "outputId": "a3648c30-9219-47be-e814-21437097ffed"
      },
      "source": [
        "tfidf_matrix = tf.fit_transform(df_app['Category']) \n",
        "tfidf_matrix.shape "
      ],
      "execution_count": null,
      "outputs": [
        {
          "output_type": "execute_result",
          "data": {
            "text/plain": [
              "(10840, 33)"
            ]
          },
          "metadata": {},
          "execution_count": 17
        }
      ]
    },
    {
      "cell_type": "markdown",
      "metadata": {
        "id": "-_UV5jzdiiAT"
      },
      "source": [
        "Menghasilkan vektor tf-idf dalam bentuk matriks dengan fungsi todense()"
      ]
    },
    {
      "cell_type": "code",
      "metadata": {
        "colab": {
          "base_uri": "https://localhost:8080/"
        },
        "id": "cZ6dQ85CiSLt",
        "outputId": "b87434ac-eade-4740-ecac-63394c158f46"
      },
      "source": [
        "tfidf_matrix.todense()"
      ],
      "execution_count": null,
      "outputs": [
        {
          "output_type": "execute_result",
          "data": {
            "text/plain": [
              "matrix([[1., 0., 0., ..., 0., 0., 0.],\n",
              "        [1., 0., 0., ..., 0., 0., 0.],\n",
              "        [1., 0., 0., ..., 0., 0., 0.],\n",
              "        ...,\n",
              "        [0., 0., 0., ..., 0., 0., 0.],\n",
              "        [0., 0., 0., ..., 0., 0., 0.],\n",
              "        [0., 0., 0., ..., 0., 0., 0.]])"
            ]
          },
          "metadata": {},
          "execution_count": 18
        }
      ]
    },
    {
      "cell_type": "markdown",
      "metadata": {
        "id": "LDap5kjTjbit"
      },
      "source": [
        "Membuat dataframe untuk melihat tf-idf matrix.\n",
        "- Kolom berisi Category\n",
        "- Baris berisi nama aplikasi\n",
        "\n",
        "Jika nilai matriks 1.0, artinya baris App merupakan Category dari nama kolom. Contohnya seperti App *Palace Pets in Whisker Haven* yang merupakan Category *family*."
      ]
    },
    {
      "cell_type": "code",
      "metadata": {
        "colab": {
          "base_uri": "https://localhost:8080/",
          "height": 744
        },
        "id": "j0osC1t2jj_D",
        "outputId": "c9c93cb2-51a9-474b-e3aa-a11fdd5f9d6a"
      },
      "source": [
        "pd.DataFrame(\n",
        "    tfidf_matrix.todense(), \n",
        "    columns=tf.get_feature_names(),\n",
        "    index=df_app.App\n",
        ").sample(8, axis=1).sample(10, axis=0)"
      ],
      "execution_count": null,
      "outputs": [
        {
          "output_type": "execute_result",
          "data": {
            "text/html": [
              "<div>\n",
              "<style scoped>\n",
              "    .dataframe tbody tr th:only-of-type {\n",
              "        vertical-align: middle;\n",
              "    }\n",
              "\n",
              "    .dataframe tbody tr th {\n",
              "        vertical-align: top;\n",
              "    }\n",
              "\n",
              "    .dataframe thead th {\n",
              "        text-align: right;\n",
              "    }\n",
              "</style>\n",
              "<table border=\"1\" class=\"dataframe\">\n",
              "  <thead>\n",
              "    <tr style=\"text-align: right;\">\n",
              "      <th></th>\n",
              "      <th>finance</th>\n",
              "      <th>entertainment</th>\n",
              "      <th>medical</th>\n",
              "      <th>news_and_magazines</th>\n",
              "      <th>family</th>\n",
              "      <th>tools</th>\n",
              "      <th>lifestyle</th>\n",
              "      <th>house_and_home</th>\n",
              "    </tr>\n",
              "    <tr>\n",
              "      <th>App</th>\n",
              "      <th></th>\n",
              "      <th></th>\n",
              "      <th></th>\n",
              "      <th></th>\n",
              "      <th></th>\n",
              "      <th></th>\n",
              "      <th></th>\n",
              "      <th></th>\n",
              "    </tr>\n",
              "  </thead>\n",
              "  <tbody>\n",
              "    <tr>\n",
              "      <th>FindLoving</th>\n",
              "      <td>0.0</td>\n",
              "      <td>0.0</td>\n",
              "      <td>0.0</td>\n",
              "      <td>0.0</td>\n",
              "      <td>0.0</td>\n",
              "      <td>0.0</td>\n",
              "      <td>0.0</td>\n",
              "      <td>0.0</td>\n",
              "    </tr>\n",
              "    <tr>\n",
              "      <th>Chinese Chess / Co Tuong</th>\n",
              "      <td>0.0</td>\n",
              "      <td>0.0</td>\n",
              "      <td>0.0</td>\n",
              "      <td>0.0</td>\n",
              "      <td>0.0</td>\n",
              "      <td>0.0</td>\n",
              "      <td>0.0</td>\n",
              "      <td>0.0</td>\n",
              "    </tr>\n",
              "    <tr>\n",
              "      <th>D. H. Lawrence Poems FREE</th>\n",
              "      <td>0.0</td>\n",
              "      <td>0.0</td>\n",
              "      <td>0.0</td>\n",
              "      <td>0.0</td>\n",
              "      <td>0.0</td>\n",
              "      <td>0.0</td>\n",
              "      <td>0.0</td>\n",
              "      <td>0.0</td>\n",
              "    </tr>\n",
              "    <tr>\n",
              "      <th>Remote For Pioneer AV Receivers and Blu-Ray</th>\n",
              "      <td>0.0</td>\n",
              "      <td>0.0</td>\n",
              "      <td>0.0</td>\n",
              "      <td>0.0</td>\n",
              "      <td>0.0</td>\n",
              "      <td>1.0</td>\n",
              "      <td>0.0</td>\n",
              "      <td>0.0</td>\n",
              "    </tr>\n",
              "    <tr>\n",
              "      <th>Weather by eltiempo.es</th>\n",
              "      <td>0.0</td>\n",
              "      <td>0.0</td>\n",
              "      <td>0.0</td>\n",
              "      <td>0.0</td>\n",
              "      <td>0.0</td>\n",
              "      <td>0.0</td>\n",
              "      <td>0.0</td>\n",
              "      <td>0.0</td>\n",
              "    </tr>\n",
              "    <tr>\n",
              "      <th>abeoCoder</th>\n",
              "      <td>0.0</td>\n",
              "      <td>0.0</td>\n",
              "      <td>1.0</td>\n",
              "      <td>0.0</td>\n",
              "      <td>0.0</td>\n",
              "      <td>0.0</td>\n",
              "      <td>0.0</td>\n",
              "      <td>0.0</td>\n",
              "    </tr>\n",
              "    <tr>\n",
              "      <th>Florida Offline Road Map</th>\n",
              "      <td>0.0</td>\n",
              "      <td>0.0</td>\n",
              "      <td>0.0</td>\n",
              "      <td>0.0</td>\n",
              "      <td>0.0</td>\n",
              "      <td>0.0</td>\n",
              "      <td>0.0</td>\n",
              "      <td>0.0</td>\n",
              "    </tr>\n",
              "    <tr>\n",
              "      <th>Palace Pets in Whisker Haven</th>\n",
              "      <td>0.0</td>\n",
              "      <td>0.0</td>\n",
              "      <td>0.0</td>\n",
              "      <td>0.0</td>\n",
              "      <td>1.0</td>\n",
              "      <td>0.0</td>\n",
              "      <td>0.0</td>\n",
              "      <td>0.0</td>\n",
              "    </tr>\n",
              "    <tr>\n",
              "      <th>BZ Berner Zeitung E-Paper</th>\n",
              "      <td>0.0</td>\n",
              "      <td>0.0</td>\n",
              "      <td>0.0</td>\n",
              "      <td>1.0</td>\n",
              "      <td>0.0</td>\n",
              "      <td>0.0</td>\n",
              "      <td>0.0</td>\n",
              "      <td>0.0</td>\n",
              "    </tr>\n",
              "    <tr>\n",
              "      <th>Beauty and the Beast</th>\n",
              "      <td>0.0</td>\n",
              "      <td>0.0</td>\n",
              "      <td>0.0</td>\n",
              "      <td>0.0</td>\n",
              "      <td>1.0</td>\n",
              "      <td>0.0</td>\n",
              "      <td>0.0</td>\n",
              "      <td>0.0</td>\n",
              "    </tr>\n",
              "  </tbody>\n",
              "</table>\n",
              "</div>"
            ],
            "text/plain": [
              "                                             finance  ...  house_and_home\n",
              "App                                                   ...                \n",
              "FindLoving                                       0.0  ...             0.0\n",
              "Chinese Chess / Co Tuong                         0.0  ...             0.0\n",
              "D. H. Lawrence Poems FREE                        0.0  ...             0.0\n",
              "Remote For Pioneer AV Receivers and Blu-Ray      0.0  ...             0.0\n",
              "Weather by eltiempo.es                           0.0  ...             0.0\n",
              "abeoCoder                                        0.0  ...             0.0\n",
              "Florida Offline Road Map                         0.0  ...             0.0\n",
              "Palace Pets in Whisker Haven                     0.0  ...             0.0\n",
              "BZ Berner Zeitung E-Paper                        0.0  ...             0.0\n",
              "Beauty and the Beast                             0.0  ...             0.0\n",
              "\n",
              "[10 rows x 8 columns]"
            ]
          },
          "metadata": {},
          "execution_count": 19
        }
      ]
    },
    {
      "cell_type": "markdown",
      "metadata": {
        "id": "6RDZYTFvlDmy"
      },
      "source": [
        "### Cosine Similarity\n",
        "Menghitung Cosine Similarity pada antar App"
      ]
    },
    {
      "cell_type": "code",
      "metadata": {
        "id": "FvRQODF6lMYJ",
        "colab": {
          "base_uri": "https://localhost:8080/"
        },
        "outputId": "bdce01ce-0f25-4fa3-e8c4-3b5cc57aa2bd"
      },
      "source": [
        "from sklearn.metrics.pairwise import cosine_similarity\n",
        " \n",
        "cosine_sim = cosine_similarity(tfidf_matrix) \n",
        "cosine_sim"
      ],
      "execution_count": null,
      "outputs": [
        {
          "output_type": "execute_result",
          "data": {
            "text/plain": [
              "array([[1., 1., 1., ..., 0., 0., 0.],\n",
              "       [1., 1., 1., ..., 0., 0., 0.],\n",
              "       [1., 1., 1., ..., 0., 0., 0.],\n",
              "       ...,\n",
              "       [0., 0., 0., ..., 1., 0., 0.],\n",
              "       [0., 0., 0., ..., 0., 1., 0.],\n",
              "       [0., 0., 0., ..., 0., 0., 1.]])"
            ]
          },
          "metadata": {},
          "execution_count": 20
        }
      ]
    },
    {
      "cell_type": "markdown",
      "metadata": {
        "id": "jYKBIAGD60m6"
      },
      "source": [
        "Menampilkan similirity matrix pada setiap App"
      ]
    },
    {
      "cell_type": "code",
      "metadata": {
        "colab": {
          "base_uri": "https://localhost:8080/",
          "height": 637
        },
        "id": "OAa0ST_-GL9V",
        "outputId": "8a04e7c6-58c7-48c5-a2ec-ac394d16c60d"
      },
      "source": [
        "cosine_sim_df = pd.DataFrame(cosine_sim, index=df_app['App'], columns=df_app['App'])\n",
        "print('Shape:', cosine_sim_df.shape)\n",
        " \n",
        "cosine_sim_df.sample(5, axis=1).sample(10, axis=0)"
      ],
      "execution_count": null,
      "outputs": [
        {
          "output_type": "stream",
          "name": "stdout",
          "text": [
            "Shape: (10840, 10840)\n"
          ]
        },
        {
          "output_type": "execute_result",
          "data": {
            "text/html": [
              "<div>\n",
              "<style scoped>\n",
              "    .dataframe tbody tr th:only-of-type {\n",
              "        vertical-align: middle;\n",
              "    }\n",
              "\n",
              "    .dataframe tbody tr th {\n",
              "        vertical-align: top;\n",
              "    }\n",
              "\n",
              "    .dataframe thead th {\n",
              "        text-align: right;\n",
              "    }\n",
              "</style>\n",
              "<table border=\"1\" class=\"dataframe\">\n",
              "  <thead>\n",
              "    <tr style=\"text-align: right;\">\n",
              "      <th>App</th>\n",
              "      <th>Alzashop.com</th>\n",
              "      <th>BRL AG</th>\n",
              "      <th>Oxford Dictionary of English : Free</th>\n",
              "      <th>HTC Sense Input - EN</th>\n",
              "      <th>RetailMeNot - Coupons, Deals &amp; Discount Shopping</th>\n",
              "    </tr>\n",
              "    <tr>\n",
              "      <th>App</th>\n",
              "      <th></th>\n",
              "      <th></th>\n",
              "      <th></th>\n",
              "      <th></th>\n",
              "      <th></th>\n",
              "    </tr>\n",
              "  </thead>\n",
              "  <tbody>\n",
              "    <tr>\n",
              "      <th>AB Screen Recorder</th>\n",
              "      <td>0.0</td>\n",
              "      <td>1.0</td>\n",
              "      <td>0.0</td>\n",
              "      <td>1.0</td>\n",
              "      <td>0.0</td>\n",
              "    </tr>\n",
              "    <tr>\n",
              "      <th>Flow Free</th>\n",
              "      <td>0.0</td>\n",
              "      <td>0.0</td>\n",
              "      <td>0.0</td>\n",
              "      <td>0.0</td>\n",
              "      <td>0.0</td>\n",
              "    </tr>\n",
              "    <tr>\n",
              "      <th>Power Widget</th>\n",
              "      <td>0.0</td>\n",
              "      <td>1.0</td>\n",
              "      <td>0.0</td>\n",
              "      <td>1.0</td>\n",
              "      <td>0.0</td>\n",
              "    </tr>\n",
              "    <tr>\n",
              "      <th>InstaCam - Camera for Selfie</th>\n",
              "      <td>0.0</td>\n",
              "      <td>0.0</td>\n",
              "      <td>0.0</td>\n",
              "      <td>0.0</td>\n",
              "      <td>0.0</td>\n",
              "    </tr>\n",
              "    <tr>\n",
              "      <th>Nero AirBurn</th>\n",
              "      <td>0.0</td>\n",
              "      <td>0.0</td>\n",
              "      <td>0.0</td>\n",
              "      <td>0.0</td>\n",
              "      <td>0.0</td>\n",
              "    </tr>\n",
              "    <tr>\n",
              "      <th>Fashion in Vogue</th>\n",
              "      <td>0.0</td>\n",
              "      <td>0.0</td>\n",
              "      <td>0.0</td>\n",
              "      <td>0.0</td>\n",
              "      <td>0.0</td>\n",
              "    </tr>\n",
              "    <tr>\n",
              "      <th>yHomework - Math Solver</th>\n",
              "      <td>0.0</td>\n",
              "      <td>0.0</td>\n",
              "      <td>0.0</td>\n",
              "      <td>0.0</td>\n",
              "      <td>0.0</td>\n",
              "    </tr>\n",
              "    <tr>\n",
              "      <th>7 Nights at Pixel Pizzeria - 2</th>\n",
              "      <td>0.0</td>\n",
              "      <td>0.0</td>\n",
              "      <td>0.0</td>\n",
              "      <td>0.0</td>\n",
              "      <td>0.0</td>\n",
              "    </tr>\n",
              "    <tr>\n",
              "      <th>Elemental Knights R Platinum</th>\n",
              "      <td>0.0</td>\n",
              "      <td>0.0</td>\n",
              "      <td>0.0</td>\n",
              "      <td>0.0</td>\n",
              "      <td>0.0</td>\n",
              "    </tr>\n",
              "    <tr>\n",
              "      <th>Night Photo Frame</th>\n",
              "      <td>0.0</td>\n",
              "      <td>0.0</td>\n",
              "      <td>0.0</td>\n",
              "      <td>0.0</td>\n",
              "      <td>0.0</td>\n",
              "    </tr>\n",
              "  </tbody>\n",
              "</table>\n",
              "</div>"
            ],
            "text/plain": [
              "App                             Alzashop.com  ...  RetailMeNot - Coupons, Deals & Discount Shopping\n",
              "App                                           ...                                                  \n",
              "AB Screen Recorder                       0.0  ...                                               0.0\n",
              "Flow Free                                0.0  ...                                               0.0\n",
              "Power Widget                             0.0  ...                                               0.0\n",
              "InstaCam - Camera for Selfie             0.0  ...                                               0.0\n",
              "Nero AirBurn                             0.0  ...                                               0.0\n",
              "Fashion in Vogue                         0.0  ...                                               0.0\n",
              "yHomework - Math Solver                  0.0  ...                                               0.0\n",
              "7 Nights at Pixel Pizzeria - 2           0.0  ...                                               0.0\n",
              "Elemental Knights R Platinum             0.0  ...                                               0.0\n",
              "Night Photo Frame                        0.0  ...                                               0.0\n",
              "\n",
              "[10 rows x 5 columns]"
            ]
          },
          "metadata": {},
          "execution_count": 21
        }
      ]
    },
    {
      "cell_type": "markdown",
      "metadata": {
        "id": "sVCGGT2gPVQW"
      },
      "source": [
        "Membuat fungsi app_recommendations dengan parameter nama_app, similarity_data, items (App dan Category), dan k (banyak rekomendasi yang akan diberikan)"
      ]
    },
    {
      "cell_type": "code",
      "metadata": {
        "id": "m469vo59PWCP"
      },
      "source": [
        "def app_recommendations(nama_app, similarity_data=cosine_sim_df, items=df_app[['App', 'Category']], k=10):\n",
        "\n",
        "    index = similarity_data.loc[:,nama_app].to_numpy().argpartition(\n",
        "        range(-1, -k, -1))\n",
        "    \n",
        "    closest = similarity_data.columns[index[-1:-(k+2):-1]]\n",
        "    \n",
        "    closest = closest.drop(nama_app, errors='ignore')\n",
        " \n",
        "    return pd.DataFrame(closest).merge(items).head(k)"
      ],
      "execution_count": null,
      "outputs": []
    },
    {
      "cell_type": "markdown",
      "metadata": {
        "id": "bx268XpT8vR6"
      },
      "source": [
        "Menerapkan fungsi dengan menemukan rekomendasi yang mirip dengan App *Sketch - Draw & Paint*."
      ]
    },
    {
      "cell_type": "code",
      "metadata": {
        "colab": {
          "base_uri": "https://localhost:8080/",
          "height": 81
        },
        "id": "1k_QMpvvPvbD",
        "outputId": "652cf9d3-a439-4652-f20a-1a565e0a50c2"
      },
      "source": [
        "df_app[df_app.App.eq('Sketch - Draw & Paint')]"
      ],
      "execution_count": null,
      "outputs": [
        {
          "output_type": "execute_result",
          "data": {
            "text/html": [
              "<div>\n",
              "<style scoped>\n",
              "    .dataframe tbody tr th:only-of-type {\n",
              "        vertical-align: middle;\n",
              "    }\n",
              "\n",
              "    .dataframe tbody tr th {\n",
              "        vertical-align: top;\n",
              "    }\n",
              "\n",
              "    .dataframe thead th {\n",
              "        text-align: right;\n",
              "    }\n",
              "</style>\n",
              "<table border=\"1\" class=\"dataframe\">\n",
              "  <thead>\n",
              "    <tr style=\"text-align: right;\">\n",
              "      <th></th>\n",
              "      <th>App</th>\n",
              "      <th>Category</th>\n",
              "    </tr>\n",
              "  </thead>\n",
              "  <tbody>\n",
              "    <tr>\n",
              "      <th>3</th>\n",
              "      <td>Sketch - Draw &amp; Paint</td>\n",
              "      <td>ART_AND_DESIGN</td>\n",
              "    </tr>\n",
              "  </tbody>\n",
              "</table>\n",
              "</div>"
            ],
            "text/plain": [
              "                     App        Category\n",
              "3  Sketch - Draw & Paint  ART_AND_DESIGN"
            ]
          },
          "metadata": {},
          "execution_count": 31
        }
      ]
    },
    {
      "cell_type": "markdown",
      "metadata": {
        "id": "BVfuvcw7-ESq"
      },
      "source": [
        "App *Sketch - Draw & Paint* merupakan kategory *ART_AND_DESIGN*. Mememanggil fungsi app_recommendation untuk mendapatkan rekomendasi dengan kategory yang mirip."
      ]
    },
    {
      "cell_type": "code",
      "metadata": {
        "colab": {
          "base_uri": "https://localhost:8080/",
          "height": 362
        },
        "id": "GZ9yui03P7Ud",
        "outputId": "ae7504aa-7460-437e-99e9-505547820c01"
      },
      "source": [
        "app_recommendations('Sketch - Draw & Paint')"
      ],
      "execution_count": null,
      "outputs": [
        {
          "output_type": "execute_result",
          "data": {
            "text/html": [
              "<div>\n",
              "<style scoped>\n",
              "    .dataframe tbody tr th:only-of-type {\n",
              "        vertical-align: middle;\n",
              "    }\n",
              "\n",
              "    .dataframe tbody tr th {\n",
              "        vertical-align: top;\n",
              "    }\n",
              "\n",
              "    .dataframe thead th {\n",
              "        text-align: right;\n",
              "    }\n",
              "</style>\n",
              "<table border=\"1\" class=\"dataframe\">\n",
              "  <thead>\n",
              "    <tr style=\"text-align: right;\">\n",
              "      <th></th>\n",
              "      <th>App</th>\n",
              "      <th>Category</th>\n",
              "    </tr>\n",
              "  </thead>\n",
              "  <tbody>\n",
              "    <tr>\n",
              "      <th>0</th>\n",
              "      <td>Photo Editor &amp; Candy Camera &amp; Grid &amp; ScrapBook</td>\n",
              "      <td>ART_AND_DESIGN</td>\n",
              "    </tr>\n",
              "    <tr>\n",
              "      <th>1</th>\n",
              "      <td>Little Teddy Bear Colouring Book Game</td>\n",
              "      <td>ART_AND_DESIGN</td>\n",
              "    </tr>\n",
              "    <tr>\n",
              "      <th>2</th>\n",
              "      <td>Install images with music to make video withou...</td>\n",
              "      <td>ART_AND_DESIGN</td>\n",
              "    </tr>\n",
              "    <tr>\n",
              "      <th>3</th>\n",
              "      <td>Canva: Poster, banner, card maker &amp; graphic de...</td>\n",
              "      <td>ART_AND_DESIGN</td>\n",
              "    </tr>\n",
              "    <tr>\n",
              "      <th>4</th>\n",
              "      <td>Popsicle Sticks and Similar DIY Craft Ideas</td>\n",
              "      <td>ART_AND_DESIGN</td>\n",
              "    </tr>\n",
              "    <tr>\n",
              "      <th>5</th>\n",
              "      <td>Paint Splash!</td>\n",
              "      <td>ART_AND_DESIGN</td>\n",
              "    </tr>\n",
              "    <tr>\n",
              "      <th>6</th>\n",
              "      <td>How To Draw Food</td>\n",
              "      <td>ART_AND_DESIGN</td>\n",
              "    </tr>\n",
              "    <tr>\n",
              "      <th>7</th>\n",
              "      <td>How to draw Ladybug and Cat Noir</td>\n",
              "      <td>ART_AND_DESIGN</td>\n",
              "    </tr>\n",
              "    <tr>\n",
              "      <th>8</th>\n",
              "      <td>Drawing Clothes Fashion Ideas</td>\n",
              "      <td>ART_AND_DESIGN</td>\n",
              "    </tr>\n",
              "    <tr>\n",
              "      <th>9</th>\n",
              "      <td>Textgram - write on photos</td>\n",
              "      <td>ART_AND_DESIGN</td>\n",
              "    </tr>\n",
              "  </tbody>\n",
              "</table>\n",
              "</div>"
            ],
            "text/plain": [
              "                                                 App        Category\n",
              "0     Photo Editor & Candy Camera & Grid & ScrapBook  ART_AND_DESIGN\n",
              "1              Little Teddy Bear Colouring Book Game  ART_AND_DESIGN\n",
              "2  Install images with music to make video withou...  ART_AND_DESIGN\n",
              "3  Canva: Poster, banner, card maker & graphic de...  ART_AND_DESIGN\n",
              "4        Popsicle Sticks and Similar DIY Craft Ideas  ART_AND_DESIGN\n",
              "5                                      Paint Splash!  ART_AND_DESIGN\n",
              "6                                   How To Draw Food  ART_AND_DESIGN\n",
              "7                   How to draw Ladybug and Cat Noir  ART_AND_DESIGN\n",
              "8                      Drawing Clothes Fashion Ideas  ART_AND_DESIGN\n",
              "9                         Textgram - write on photos  ART_AND_DESIGN"
            ]
          },
          "metadata": {},
          "execution_count": 39
        }
      ]
    },
    {
      "cell_type": "markdown",
      "metadata": {
        "id": "7y5qGaPvNH2g"
      },
      "source": [
        "## Evaluasi"
      ]
    },
    {
      "cell_type": "markdown",
      "metadata": {
        "id": "P8HMJtTH_7xy"
      },
      "source": [
        "### Precision\n",
        "formula :   \n",
        "`precision = banyak rekomendasi relevan/banyak item yang direkomendasikan.`\n",
        "\n",
        "Item yang direkomendasikan adalah sebanyak 10 item (k=10) dan banyaknya rekomendasi yang sesuai dengan App *Sketch - Draw & Paint* adalah 10 App karena semua App yang direkomendasikan merupakan kategori yang sama dengan App *Sketch - Draw & Paint* yaitu kategori *ART_AND_DESIGN*."
      ]
    },
    {
      "cell_type": "code",
      "metadata": {
        "colab": {
          "base_uri": "https://localhost:8080/"
        },
        "id": "v3r1TDWI_-MB",
        "outputId": "798e6c67-147e-4fd5-8540-8444b9a6b6be"
      },
      "source": [
        "relevant = 10\n",
        "item_recommended = 10\n",
        "precision = relevant/item_recommend\n",
        "print(\"Hasil Precision = \", precision)"
      ],
      "execution_count": null,
      "outputs": [
        {
          "output_type": "stream",
          "name": "stdout",
          "text": [
            "Hasil Precision =  1.0\n"
          ]
        }
      ]
    }
  ]
}